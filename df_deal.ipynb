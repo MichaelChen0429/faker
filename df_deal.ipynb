{
 "cells": [
  {
   "cell_type": "markdown",
   "metadata": {},
   "source": [
    "# 透過 game_id ，串接 matchinfo 和 kills 檔案處理"
   ]
  },
  {
   "cell_type": "code",
   "execution_count": 64,
   "metadata": {},
   "outputs": [],
   "source": [
    "import pandas as pd"
   ]
  },
  {
   "cell_type": "code",
   "execution_count": 65,
   "metadata": {},
   "outputs": [],
   "source": [
    "# 資料 game_id 處理\n",
    "def game_id_deal(file_name, new_file_name):\n",
    "    df = pd.read_csv(file_name)\n",
    "    df['Address'] = df['Address'].str.split('=')\n",
    "    df['Address'] = df['Address'].str.get(-1)\n",
    "\n",
    "    df.rename(columns={\"Address\":\"game_id\"}, inplace=True)\n",
    "    df.to_csv(new_file_name)"
   ]
  },
  {
   "cell_type": "code",
   "execution_count": 66,
   "metadata": {},
   "outputs": [],
   "source": [
    "# kills\n",
    "kills_origin_name = \"/Users/wuqirong/Documents/大三上課程/資料視覺化/期中報告/archive/kills.csv\"\n",
    "kills_edited_name = \"/Users/wuqirong/Documents/大三上課程/資料視覺化/期中報告/archive/kills_edited.csv\"\n",
    "game_id_deal(kills_origin_name, kills_edited_name)\n",
    "\n",
    "# matchinfo\n",
    "matchinfo_origin_name = \"/Users/wuqirong/Documents/大三上課程/資料視覺化/期中報告/archive/matchinfo.csv\"\n",
    "matchinfo_edited_name = \"/Users/wuqirong/Documents/大三上課程/資料視覺化/期中報告/archive/matchinfo_edited.csv\"\n",
    "game_id_deal(matchinfo_origin_name, matchinfo_edited_name)"
   ]
  },
  {
   "cell_type": "markdown",
   "metadata": {},
   "source": [
    "## 篩選有 Faker 的比賽"
   ]
  },
  {
   "cell_type": "code",
   "execution_count": 67,
   "metadata": {},
   "outputs": [],
   "source": [
    "df_matchinfo = pd.read_csv(\"/Users/wuqirong/Documents/大三上課程/資料視覺化/期中報告/archive/matchinfo_edited.csv\")\n",
    "df_faker = df_matchinfo[['game_id', 'League', 'Year', 'Season', 'Type', 'blueTeamTag', 'bResult', 'rResult', 'redTeamTag', 'gamelength', 'blueMiddle', 'blueMiddleChamp', 'redMiddle', 'redMiddleChamp']]"
   ]
  },
  {
   "cell_type": "code",
   "execution_count": 68,
   "metadata": {},
   "outputs": [],
   "source": [
    "# faker_filter\n",
    "faker_filter = (df_faker.blueMiddle == \"Faker\") | (df_faker.redMiddle == \"Faker\")\n",
    "df_faker = df_faker[faker_filter]"
   ]
  },
  {
   "cell_type": "markdown",
   "metadata": {},
   "source": [
    "## 抓取 Faker 使用的英雄"
   ]
  },
  {
   "cell_type": "code",
   "execution_count": 69,
   "metadata": {},
   "outputs": [],
   "source": [
    "# 處理 red, blue 方 faker 使用的 Champ\n",
    "blueFakerChamp = df_faker[df_faker.blueMiddle == \"Faker\"]['blueMiddleChamp']\n",
    "redFakerChamp = df_faker[df_faker.redMiddle == \"Faker\"]['redMiddleChamp']\n",
    "fakerChamp = blueFakerChamp.combine_first(redFakerChamp)"
   ]
  },
  {
   "cell_type": "code",
   "execution_count": 70,
   "metadata": {},
   "outputs": [],
   "source": [
    "# 插入 fakerChamp\n",
    "df_faker.insert(1, 'fakerChamp', fakerChamp)"
   ]
  },
  {
   "cell_type": "markdown",
   "metadata": {},
   "source": [
    "## KDA\n",
    "### 串 kills 檔案，將每一場 Faker 的 KDA 結合到 df_faker 中"
   ]
  },
  {
   "cell_type": "code",
   "execution_count": 71,
   "metadata": {},
   "outputs": [],
   "source": [
    "df_kills = pd.read_csv(\"/Users/wuqirong/Documents/大三上課程/資料視覺化/期中報告/archive/kills_edited.csv\")\n",
    "df_kills = df_kills.drop(df_kills.columns[0], axis=1)"
   ]
  },
  {
   "cell_type": "code",
   "execution_count": 72,
   "metadata": {},
   "outputs": [],
   "source": [
    "total_kill = []\n",
    "faker_kill = []\n",
    "faker_death = []\n",
    "faker_assist = []\n",
    "\n",
    "for i in range(len(df_faker)):\n",
    "    temp_game_id = df_faker.iloc[i].game_id\n",
    "    # 篩選同場次的紀錄\n",
    "    game_mask = (df_kills.game_id == temp_game_id)\n",
    "    df_temp = df_kills[game_mask]\n",
    "    \n",
    "    # 整隊擊殺次數\n",
    "    total_kill_mask = (df_temp.Killer.str.startswith(\"SKT\") == True)\n",
    "    total_kill_count = len(df_temp[total_kill_mask])\n",
    "    \n",
    "    # 擊殺次數\n",
    "    kill_mask = (df_temp.Killer == \"SKT Faker\")\n",
    "    kill_count = len(df_temp[kill_mask])\n",
    "    \n",
    "    # 死亡次數\n",
    "    death_mask = (df_temp.Victim == \"SKT Faker\")\n",
    "    death_count = len(df_temp[death_mask])\n",
    "    \n",
    "    # 助攻次數\n",
    "    assist_mask = (df_temp.Assist_1 == \"SKT Faker\") | (df_temp.Assist_2 == \"SKT Faker\") | (df_temp.Assist_3 == \"SKT Faker\") | (df_temp.Assist_4 == \"SKT Faker\")\n",
    "    assist_count = len(df_temp[assist_mask])\n",
    "    \n",
    "    total_kill.append(total_kill_count)\n",
    "    faker_kill.append(kill_count)\n",
    "    faker_death.append(death_count)\n",
    "    faker_assist.append(assist_count)"
   ]
  },
  {
   "cell_type": "code",
   "execution_count": 73,
   "metadata": {},
   "outputs": [],
   "source": [
    "df_faker.insert(2, 'fakerKills', faker_kill)\n",
    "df_faker.insert(3, 'fakerDeaths', faker_death)\n",
    "df_faker.insert(4, 'fakerAssists', faker_assist)\n",
    "df_faker.insert(5, 'SKTTotalKills', total_kill)"
   ]
  },
  {
   "cell_type": "code",
   "execution_count": 74,
   "metadata": {
    "scrolled": true
   },
   "outputs": [
    {
     "data": {
      "text/html": [
       "<div>\n",
       "<style scoped>\n",
       "    .dataframe tbody tr th:only-of-type {\n",
       "        vertical-align: middle;\n",
       "    }\n",
       "\n",
       "    .dataframe tbody tr th {\n",
       "        vertical-align: top;\n",
       "    }\n",
       "\n",
       "    .dataframe thead th {\n",
       "        text-align: right;\n",
       "    }\n",
       "</style>\n",
       "<table border=\"1\" class=\"dataframe\">\n",
       "  <thead>\n",
       "    <tr style=\"text-align: right;\">\n",
       "      <th></th>\n",
       "      <th>game_id</th>\n",
       "      <th>fakerChamp</th>\n",
       "      <th>fakerKills</th>\n",
       "      <th>fakerDeaths</th>\n",
       "      <th>fakerAssists</th>\n",
       "      <th>SKTTotalKills</th>\n",
       "      <th>League</th>\n",
       "      <th>Year</th>\n",
       "      <th>Season</th>\n",
       "      <th>Type</th>\n",
       "      <th>blueTeamTag</th>\n",
       "      <th>bResult</th>\n",
       "      <th>rResult</th>\n",
       "      <th>redTeamTag</th>\n",
       "      <th>gamelength</th>\n",
       "      <th>blueMiddle</th>\n",
       "      <th>blueMiddleChamp</th>\n",
       "      <th>redMiddle</th>\n",
       "      <th>redMiddleChamp</th>\n",
       "    </tr>\n",
       "  </thead>\n",
       "  <tbody>\n",
       "    <tr>\n",
       "      <th>2058</th>\n",
       "      <td>156fcf3fa2776e3f</td>\n",
       "      <td>Xerath</td>\n",
       "      <td>1</td>\n",
       "      <td>2</td>\n",
       "      <td>0</td>\n",
       "      <td>1</td>\n",
       "      <td>LCK</td>\n",
       "      <td>2015</td>\n",
       "      <td>Spring</td>\n",
       "      <td>Playoffs</td>\n",
       "      <td>SKT</td>\n",
       "      <td>0</td>\n",
       "      <td>1</td>\n",
       "      <td>CJE</td>\n",
       "      <td>32</td>\n",
       "      <td>Faker</td>\n",
       "      <td>Xerath</td>\n",
       "      <td>Coco</td>\n",
       "      <td>Vladimir</td>\n",
       "    </tr>\n",
       "    <tr>\n",
       "      <th>2059</th>\n",
       "      <td>33ad9f88301528e6</td>\n",
       "      <td>Lulu</td>\n",
       "      <td>5</td>\n",
       "      <td>0</td>\n",
       "      <td>5</td>\n",
       "      <td>13</td>\n",
       "      <td>LCK</td>\n",
       "      <td>2015</td>\n",
       "      <td>Spring</td>\n",
       "      <td>Playoffs</td>\n",
       "      <td>CJE</td>\n",
       "      <td>0</td>\n",
       "      <td>1</td>\n",
       "      <td>SKT</td>\n",
       "      <td>31</td>\n",
       "      <td>Coco</td>\n",
       "      <td>Ryze</td>\n",
       "      <td>Faker</td>\n",
       "      <td>Lulu</td>\n",
       "    </tr>\n",
       "    <tr>\n",
       "      <th>2060</th>\n",
       "      <td>b817640f2c56dc89</td>\n",
       "      <td>Lulu</td>\n",
       "      <td>4</td>\n",
       "      <td>2</td>\n",
       "      <td>13</td>\n",
       "      <td>20</td>\n",
       "      <td>LCK</td>\n",
       "      <td>2015</td>\n",
       "      <td>Spring</td>\n",
       "      <td>Playoffs</td>\n",
       "      <td>SKT</td>\n",
       "      <td>1</td>\n",
       "      <td>0</td>\n",
       "      <td>CJE</td>\n",
       "      <td>72</td>\n",
       "      <td>Faker</td>\n",
       "      <td>Lulu</td>\n",
       "      <td>Coco</td>\n",
       "      <td>Ziggs</td>\n",
       "    </tr>\n",
       "    <tr>\n",
       "      <th>2061</th>\n",
       "      <td>394ba5e889b3e4b5</td>\n",
       "      <td>Leblanc</td>\n",
       "      <td>15</td>\n",
       "      <td>1</td>\n",
       "      <td>10</td>\n",
       "      <td>37</td>\n",
       "      <td>LCK</td>\n",
       "      <td>2015</td>\n",
       "      <td>Spring</td>\n",
       "      <td>Playoffs</td>\n",
       "      <td>SKT</td>\n",
       "      <td>1</td>\n",
       "      <td>0</td>\n",
       "      <td>CJE</td>\n",
       "      <td>35</td>\n",
       "      <td>Faker</td>\n",
       "      <td>Leblanc</td>\n",
       "      <td>Coco</td>\n",
       "      <td>Azir</td>\n",
       "    </tr>\n",
       "    <tr>\n",
       "      <th>2065</th>\n",
       "      <td>3c88db0d8da6effd</td>\n",
       "      <td>Xerath</td>\n",
       "      <td>2</td>\n",
       "      <td>4</td>\n",
       "      <td>3</td>\n",
       "      <td>6</td>\n",
       "      <td>LCK</td>\n",
       "      <td>2015</td>\n",
       "      <td>Spring</td>\n",
       "      <td>Season</td>\n",
       "      <td>NJE</td>\n",
       "      <td>1</td>\n",
       "      <td>0</td>\n",
       "      <td>SKT</td>\n",
       "      <td>34</td>\n",
       "      <td>Ggoong</td>\n",
       "      <td>Zed</td>\n",
       "      <td>Faker</td>\n",
       "      <td>Xerath</td>\n",
       "    </tr>\n",
       "  </tbody>\n",
       "</table>\n",
       "</div>"
      ],
      "text/plain": [
       "               game_id fakerChamp  fakerKills  fakerDeaths  fakerAssists  \\\n",
       "2058  156fcf3fa2776e3f     Xerath           1            2             0   \n",
       "2059  33ad9f88301528e6       Lulu           5            0             5   \n",
       "2060  b817640f2c56dc89       Lulu           4            2            13   \n",
       "2061  394ba5e889b3e4b5    Leblanc          15            1            10   \n",
       "2065  3c88db0d8da6effd     Xerath           2            4             3   \n",
       "\n",
       "      SKTTotalKills League  Year  Season      Type blueTeamTag  bResult  \\\n",
       "2058              1    LCK  2015  Spring  Playoffs         SKT        0   \n",
       "2059             13    LCK  2015  Spring  Playoffs         CJE        0   \n",
       "2060             20    LCK  2015  Spring  Playoffs         SKT        1   \n",
       "2061             37    LCK  2015  Spring  Playoffs         SKT        1   \n",
       "2065              6    LCK  2015  Spring    Season         NJE        1   \n",
       "\n",
       "      rResult redTeamTag  gamelength blueMiddle blueMiddleChamp redMiddle  \\\n",
       "2058        1        CJE          32      Faker          Xerath      Coco   \n",
       "2059        1        SKT          31       Coco            Ryze     Faker   \n",
       "2060        0        CJE          72      Faker            Lulu      Coco   \n",
       "2061        0        CJE          35      Faker         Leblanc      Coco   \n",
       "2065        0        SKT          34     Ggoong             Zed     Faker   \n",
       "\n",
       "     redMiddleChamp  \n",
       "2058       Vladimir  \n",
       "2059           Lulu  \n",
       "2060          Ziggs  \n",
       "2061           Azir  \n",
       "2065         Xerath  "
      ]
     },
     "execution_count": 74,
     "metadata": {},
     "output_type": "execute_result"
    }
   ],
   "source": [
    "df_faker.head()"
   ]
  },
  {
   "cell_type": "markdown",
   "metadata": {},
   "source": [
    "# Faker 常用英雄分析"
   ]
  },
  {
   "cell_type": "code",
   "execution_count": 75,
   "metadata": {},
   "outputs": [],
   "source": [
    "fakerUsedChamp = df_faker['fakerChamp'].value_counts()\n",
    "# 更改欄位名稱\n",
    "fakerUsedChamp = fakerUsedChamp.rename_axis(\"Champ\").rename(\"pickCounts\")\n",
    "fakerUsedChamp.to_csv(\"/Users/wuqirong/Documents/大三上課程/資料視覺化/期中報告/archive/output_csv/fakerUsedChamp.csv\")"
   ]
  },
  {
   "cell_type": "code",
   "execution_count": 76,
   "metadata": {},
   "outputs": [
    {
     "data": {
      "text/html": [
       "<div>\n",
       "<style scoped>\n",
       "    .dataframe tbody tr th:only-of-type {\n",
       "        vertical-align: middle;\n",
       "    }\n",
       "\n",
       "    .dataframe tbody tr th {\n",
       "        vertical-align: top;\n",
       "    }\n",
       "\n",
       "    .dataframe thead th {\n",
       "        text-align: right;\n",
       "    }\n",
       "</style>\n",
       "<table border=\"1\" class=\"dataframe\">\n",
       "  <thead>\n",
       "    <tr style=\"text-align: right;\">\n",
       "      <th></th>\n",
       "      <th>game_id</th>\n",
       "      <th>fakerChamp</th>\n",
       "      <th>fakerKills</th>\n",
       "      <th>fakerDeaths</th>\n",
       "      <th>fakerAssists</th>\n",
       "      <th>SKTTotalKills</th>\n",
       "      <th>League</th>\n",
       "      <th>Year</th>\n",
       "      <th>Season</th>\n",
       "      <th>Type</th>\n",
       "      <th>blueTeamTag</th>\n",
       "      <th>bResult</th>\n",
       "      <th>rResult</th>\n",
       "      <th>redTeamTag</th>\n",
       "      <th>gamelength</th>\n",
       "      <th>blueMiddle</th>\n",
       "      <th>blueMiddleChamp</th>\n",
       "      <th>redMiddle</th>\n",
       "      <th>redMiddleChamp</th>\n",
       "    </tr>\n",
       "  </thead>\n",
       "  <tbody>\n",
       "    <tr>\n",
       "      <th>2058</th>\n",
       "      <td>156fcf3fa2776e3f</td>\n",
       "      <td>Xerath</td>\n",
       "      <td>1</td>\n",
       "      <td>2</td>\n",
       "      <td>0</td>\n",
       "      <td>1</td>\n",
       "      <td>LCK</td>\n",
       "      <td>2015</td>\n",
       "      <td>Spring</td>\n",
       "      <td>Playoffs</td>\n",
       "      <td>SKT</td>\n",
       "      <td>0</td>\n",
       "      <td>1</td>\n",
       "      <td>CJE</td>\n",
       "      <td>32</td>\n",
       "      <td>Faker</td>\n",
       "      <td>Xerath</td>\n",
       "      <td>Coco</td>\n",
       "      <td>Vladimir</td>\n",
       "    </tr>\n",
       "    <tr>\n",
       "      <th>2059</th>\n",
       "      <td>33ad9f88301528e6</td>\n",
       "      <td>Lulu</td>\n",
       "      <td>5</td>\n",
       "      <td>0</td>\n",
       "      <td>5</td>\n",
       "      <td>13</td>\n",
       "      <td>LCK</td>\n",
       "      <td>2015</td>\n",
       "      <td>Spring</td>\n",
       "      <td>Playoffs</td>\n",
       "      <td>CJE</td>\n",
       "      <td>0</td>\n",
       "      <td>1</td>\n",
       "      <td>SKT</td>\n",
       "      <td>31</td>\n",
       "      <td>Coco</td>\n",
       "      <td>Ryze</td>\n",
       "      <td>Faker</td>\n",
       "      <td>Lulu</td>\n",
       "    </tr>\n",
       "    <tr>\n",
       "      <th>2060</th>\n",
       "      <td>b817640f2c56dc89</td>\n",
       "      <td>Lulu</td>\n",
       "      <td>4</td>\n",
       "      <td>2</td>\n",
       "      <td>13</td>\n",
       "      <td>20</td>\n",
       "      <td>LCK</td>\n",
       "      <td>2015</td>\n",
       "      <td>Spring</td>\n",
       "      <td>Playoffs</td>\n",
       "      <td>SKT</td>\n",
       "      <td>1</td>\n",
       "      <td>0</td>\n",
       "      <td>CJE</td>\n",
       "      <td>72</td>\n",
       "      <td>Faker</td>\n",
       "      <td>Lulu</td>\n",
       "      <td>Coco</td>\n",
       "      <td>Ziggs</td>\n",
       "    </tr>\n",
       "    <tr>\n",
       "      <th>2061</th>\n",
       "      <td>394ba5e889b3e4b5</td>\n",
       "      <td>Leblanc</td>\n",
       "      <td>15</td>\n",
       "      <td>1</td>\n",
       "      <td>10</td>\n",
       "      <td>37</td>\n",
       "      <td>LCK</td>\n",
       "      <td>2015</td>\n",
       "      <td>Spring</td>\n",
       "      <td>Playoffs</td>\n",
       "      <td>SKT</td>\n",
       "      <td>1</td>\n",
       "      <td>0</td>\n",
       "      <td>CJE</td>\n",
       "      <td>35</td>\n",
       "      <td>Faker</td>\n",
       "      <td>Leblanc</td>\n",
       "      <td>Coco</td>\n",
       "      <td>Azir</td>\n",
       "    </tr>\n",
       "    <tr>\n",
       "      <th>2065</th>\n",
       "      <td>3c88db0d8da6effd</td>\n",
       "      <td>Xerath</td>\n",
       "      <td>2</td>\n",
       "      <td>4</td>\n",
       "      <td>3</td>\n",
       "      <td>6</td>\n",
       "      <td>LCK</td>\n",
       "      <td>2015</td>\n",
       "      <td>Spring</td>\n",
       "      <td>Season</td>\n",
       "      <td>NJE</td>\n",
       "      <td>1</td>\n",
       "      <td>0</td>\n",
       "      <td>SKT</td>\n",
       "      <td>34</td>\n",
       "      <td>Ggoong</td>\n",
       "      <td>Zed</td>\n",
       "      <td>Faker</td>\n",
       "      <td>Xerath</td>\n",
       "    </tr>\n",
       "  </tbody>\n",
       "</table>\n",
       "</div>"
      ],
      "text/plain": [
       "               game_id fakerChamp  fakerKills  fakerDeaths  fakerAssists  \\\n",
       "2058  156fcf3fa2776e3f     Xerath           1            2             0   \n",
       "2059  33ad9f88301528e6       Lulu           5            0             5   \n",
       "2060  b817640f2c56dc89       Lulu           4            2            13   \n",
       "2061  394ba5e889b3e4b5    Leblanc          15            1            10   \n",
       "2065  3c88db0d8da6effd     Xerath           2            4             3   \n",
       "\n",
       "      SKTTotalKills League  Year  Season      Type blueTeamTag  bResult  \\\n",
       "2058              1    LCK  2015  Spring  Playoffs         SKT        0   \n",
       "2059             13    LCK  2015  Spring  Playoffs         CJE        0   \n",
       "2060             20    LCK  2015  Spring  Playoffs         SKT        1   \n",
       "2061             37    LCK  2015  Spring  Playoffs         SKT        1   \n",
       "2065              6    LCK  2015  Spring    Season         NJE        1   \n",
       "\n",
       "      rResult redTeamTag  gamelength blueMiddle blueMiddleChamp redMiddle  \\\n",
       "2058        1        CJE          32      Faker          Xerath      Coco   \n",
       "2059        1        SKT          31       Coco            Ryze     Faker   \n",
       "2060        0        CJE          72      Faker            Lulu      Coco   \n",
       "2061        0        CJE          35      Faker         Leblanc      Coco   \n",
       "2065        0        SKT          34     Ggoong             Zed     Faker   \n",
       "\n",
       "     redMiddleChamp  \n",
       "2058       Vladimir  \n",
       "2059           Lulu  \n",
       "2060          Ziggs  \n",
       "2061           Azir  \n",
       "2065         Xerath  "
      ]
     },
     "execution_count": 76,
     "metadata": {},
     "output_type": "execute_result"
    }
   ],
   "source": [
    "df_faker.head()"
   ]
  },
  {
   "cell_type": "markdown",
   "metadata": {},
   "source": [
    "## 計算 win rate"
   ]
  },
  {
   "cell_type": "code",
   "execution_count": 77,
   "metadata": {},
   "outputs": [
    {
     "data": {
      "text/plain": [
       "{'Orianna': 31,\n",
       " 'Azir': 31,\n",
       " 'Ryze': 26,\n",
       " 'Cassiopeia': 24,\n",
       " 'Viktor': 23,\n",
       " 'Lulu': 22}"
      ]
     },
     "execution_count": 77,
     "metadata": {},
     "output_type": "execute_result"
    }
   ],
   "source": [
    "# 取前六常玩的 Champ\n",
    "fakerTopChamp = fakerUsedChamp[:6].to_dict()\n",
    "fakerTopChamp"
   ]
  },
  {
   "cell_type": "code",
   "execution_count": 78,
   "metadata": {},
   "outputs": [
    {
     "data": {
      "text/plain": [
       "['65%', '74%', '85%', '79%', '78%', '73%']"
      ]
     },
     "execution_count": 78,
     "metadata": {},
     "output_type": "execute_result"
    }
   ],
   "source": [
    "win_rate = []\n",
    "for champ, game_count in fakerTopChamp.items():\n",
    "    # 篩選出 Faker 玩這隻英雄的場次\n",
    "    champ_mask = (df_faker.fakerChamp == champ)\n",
    "    temp_df = df_faker[champ_mask]\n",
    "    \n",
    "    # 篩選出 Faker 有勝利的場次\n",
    "    win_mask = ((temp_df.redMiddle == \"Faker\") & (temp_df.rResult == 1)) | ((temp_df.blueMiddle == \"Faker\") & (temp_df.bResult == 1))\n",
    "    temp_df = temp_df[win_mask]\n",
    "    \n",
    "    # 計算 win_rate\n",
    "    win_count = len(temp_df)\n",
    "    win_rate.append(round(win_count/game_count, 2))\n",
    "    \n",
    "for i in range(len(win_rate)):\n",
    "    win_rate[i] = int(win_rate[i] * 100)\n",
    "    win_rate[i] = str(win_rate[i]) + \"%\"\n",
    "    win_rate[i]\n",
    "win_rate"
   ]
  },
  {
   "cell_type": "code",
   "execution_count": 79,
   "metadata": {},
   "outputs": [
    {
     "data": {
      "text/plain": [
       "['Orianna', 'Azir', 'Ryze', 'Cassiopeia', 'Viktor', 'Lulu']"
      ]
     },
     "execution_count": 79,
     "metadata": {},
     "output_type": "execute_result"
    }
   ],
   "source": [
    "fakerTopChampName = list(fakerTopChamp.keys())\n",
    "fakerTopChampName"
   ]
  },
  {
   "cell_type": "code",
   "execution_count": 80,
   "metadata": {},
   "outputs": [
    {
     "data": {
      "text/plain": [
       "[31, 31, 26, 24, 23, 22]"
      ]
     },
     "execution_count": 80,
     "metadata": {},
     "output_type": "execute_result"
    }
   ],
   "source": [
    "amount = list(fakerTopChamp.values())\n",
    "amount"
   ]
  },
  {
   "cell_type": "markdown",
   "metadata": {},
   "source": [
    "## 前六常用英雄之平均 KDA、參團率"
   ]
  },
  {
   "cell_type": "code",
   "execution_count": 81,
   "metadata": {},
   "outputs": [],
   "source": [
    "KDA = []\n",
    "TeamfightRate = []\n",
    "for i in fakerTopChamp:\n",
    "    game_mask = (df_faker.fakerChamp == i)\n",
    "    temp_df = df_faker[game_mask]\n",
    "    \n",
    "    # KDA\n",
    "    temp_kill = round(temp_df['fakerKills'].mean())\n",
    "    temp_death = round(temp_df['fakerDeaths'].mean())\n",
    "    temp_assist = round(temp_df['fakerKills'].mean())\n",
    "    temp_KDA = str(temp_kill) + \"\\\\\" + str(temp_death) + \"\\\\\" + str(temp_assist)\n",
    "    \n",
    "    # faker 參團率\n",
    "    temp_teamfight_rate = round(((temp_df['fakerKills'] + temp_df['fakerAssists']) / temp_df['SKTTotalKills']).mean(), 2)\n",
    "    \n",
    "    KDA.append(temp_KDA)\n",
    "    TeamfightRate.append(temp_teamfight_rate)"
   ]
  },
  {
   "cell_type": "code",
   "execution_count": 82,
   "metadata": {},
   "outputs": [
    {
     "data": {
      "text/plain": [
       "['3\\\\2\\\\3', '4\\\\2\\\\4', '5\\\\1\\\\5', '4\\\\2\\\\4', '6\\\\2\\\\6', '4\\\\2\\\\4']"
      ]
     },
     "execution_count": 82,
     "metadata": {},
     "output_type": "execute_result"
    }
   ],
   "source": [
    "KDA"
   ]
  },
  {
   "cell_type": "code",
   "execution_count": 83,
   "metadata": {},
   "outputs": [
    {
     "data": {
      "text/plain": [
       "['69%', '69%', '66%', '59%', '72%', '78%']"
      ]
     },
     "execution_count": 83,
     "metadata": {},
     "output_type": "execute_result"
    }
   ],
   "source": [
    "for i in range(len(TeamfightRate)):\n",
    "    TeamfightRate[i] = str(int(TeamfightRate[i] * 100)) + \"%\"\n",
    "TeamfightRate"
   ]
  },
  {
   "cell_type": "code",
   "execution_count": 84,
   "metadata": {},
   "outputs": [],
   "source": [
    "s0 = pd.Series(fakerTopChampName, name=\"champName\")\n",
    "s1 = pd.Series(win_rate, name=\"win_rate\")\n",
    "s2 = pd.Series(amount, name=\"amount\")\n",
    "s3 = pd.Series(KDA, name=\"mean_KDA\")\n",
    "\n",
    "df_top6 = pd.concat([s0, s1, s2, s3], axis=1)"
   ]
  },
  {
   "cell_type": "code",
   "execution_count": 85,
   "metadata": {
    "scrolled": true
   },
   "outputs": [
    {
     "data": {
      "text/html": [
       "<div>\n",
       "<style scoped>\n",
       "    .dataframe tbody tr th:only-of-type {\n",
       "        vertical-align: middle;\n",
       "    }\n",
       "\n",
       "    .dataframe tbody tr th {\n",
       "        vertical-align: top;\n",
       "    }\n",
       "\n",
       "    .dataframe thead th {\n",
       "        text-align: right;\n",
       "    }\n",
       "</style>\n",
       "<table border=\"1\" class=\"dataframe\">\n",
       "  <thead>\n",
       "    <tr style=\"text-align: right;\">\n",
       "      <th></th>\n",
       "      <th>champName</th>\n",
       "      <th>win_rate</th>\n",
       "      <th>amount</th>\n",
       "      <th>mean_KDA</th>\n",
       "    </tr>\n",
       "  </thead>\n",
       "  <tbody>\n",
       "    <tr>\n",
       "      <th>0</th>\n",
       "      <td>Orianna</td>\n",
       "      <td>65%</td>\n",
       "      <td>31</td>\n",
       "      <td>3\\2\\3</td>\n",
       "    </tr>\n",
       "    <tr>\n",
       "      <th>1</th>\n",
       "      <td>Azir</td>\n",
       "      <td>74%</td>\n",
       "      <td>31</td>\n",
       "      <td>4\\2\\4</td>\n",
       "    </tr>\n",
       "    <tr>\n",
       "      <th>2</th>\n",
       "      <td>Ryze</td>\n",
       "      <td>85%</td>\n",
       "      <td>26</td>\n",
       "      <td>5\\1\\5</td>\n",
       "    </tr>\n",
       "    <tr>\n",
       "      <th>3</th>\n",
       "      <td>Cassiopeia</td>\n",
       "      <td>79%</td>\n",
       "      <td>24</td>\n",
       "      <td>4\\2\\4</td>\n",
       "    </tr>\n",
       "    <tr>\n",
       "      <th>4</th>\n",
       "      <td>Viktor</td>\n",
       "      <td>78%</td>\n",
       "      <td>23</td>\n",
       "      <td>6\\2\\6</td>\n",
       "    </tr>\n",
       "    <tr>\n",
       "      <th>5</th>\n",
       "      <td>Lulu</td>\n",
       "      <td>73%</td>\n",
       "      <td>22</td>\n",
       "      <td>4\\2\\4</td>\n",
       "    </tr>\n",
       "  </tbody>\n",
       "</table>\n",
       "</div>"
      ],
      "text/plain": [
       "    champName win_rate  amount mean_KDA\n",
       "0     Orianna      65%      31    3\\2\\3\n",
       "1        Azir      74%      31    4\\2\\4\n",
       "2        Ryze      85%      26    5\\1\\5\n",
       "3  Cassiopeia      79%      24    4\\2\\4\n",
       "4      Viktor      78%      23    6\\2\\6\n",
       "5        Lulu      73%      22    4\\2\\4"
      ]
     },
     "execution_count": 85,
     "metadata": {},
     "output_type": "execute_result"
    }
   ],
   "source": [
    "df_top6"
   ]
  },
  {
   "cell_type": "code",
   "execution_count": 86,
   "metadata": {},
   "outputs": [],
   "source": [
    "df_top6.to_csv(\"/Users/wuqirong/Documents/大三上課程/資料視覺化/期中報告/archive/output_csv/fakerTop6Champ.csv\", index=False)"
   ]
  },
  {
   "cell_type": "markdown",
   "metadata": {},
   "source": [
    "## 同英雄職業選手平均參團率"
   ]
  },
  {
   "cell_type": "code",
   "execution_count": 87,
   "metadata": {},
   "outputs": [],
   "source": [
    "common_TeamfightRate = []\n",
    "for i in fakerTopChamp:\n",
    "    champ_mask = (df_matchinfo.redMiddleChamp == i) | (df_matchinfo.blueMiddleChamp == i)\n",
    "    df_champ = df_matchinfo[champ_mask]\n",
    "    df_champ = df_champ[['game_id', 'League', 'Year', 'Season', 'Type', 'blueTeamTag', 'bResult', 'rResult', 'redTeamTag', 'gamelength', 'blueMiddle', 'blueMiddleChamp', 'redMiddle', 'redMiddleChamp']]\n",
    "    \n",
    "    rInfo = df_champ[df_champ.redMiddleChamp == i][['redTeamTag','redMiddle']]\n",
    "    bInfo = df_champ[df_champ.blueMiddleChamp == i][['blueTeamTag','blueMiddle']]\n",
    "    champPlayer = rInfo['redMiddle'].combine_first(bInfo['blueMiddle'])\n",
    "    champTeam = rInfo['redTeamTag'].combine_first(bInfo['blueTeamTag'])\n",
    "    \n",
    "    df_champ.insert(1, 'champTeam', champTeam)\n",
    "    df_champ.insert(2, 'champPlayer', champPlayer)\n",
    "    \n",
    "    each_game_TeamfightRate = []\n",
    "    for i in range(len(df_champ)):\n",
    "        temp_game = df_champ.iloc[i]\n",
    "        temp_game_id = temp_game['game_id']\n",
    "        temp_team = temp_game['champTeam']\n",
    "        temp_Player = temp_game['champPlayer']\n",
    "        temp_name = (str(temp_team) + \" \" + str(temp_Player))\n",
    "        \n",
    "        # 去 kills 表中計算 參團率 (kills + assists) / total_kills\n",
    "        game_mask = (df_kills.game_id == temp_game_id)\n",
    "        df_temp_kills = df_kills[game_mask]\n",
    "        # kills\n",
    "        kills_mask = df_temp_kills.Killer == (temp_name)\n",
    "        kill_count = len(df_temp_kills[kills_mask])\n",
    "        # assists\n",
    "        assists_mask = (df_temp_kills.Assist_1 == temp_name) | (df_temp_kills.Assist_2 == temp_name) | (df_temp_kills.Assist_3 == temp_name) | (df_temp_kills.Assist_4 == temp_name)\n",
    "        assists_count = len(df_temp_kills[assists_mask])\n",
    "        # total_kills\n",
    "        total_kills_mask = (df_temp_kills.Killer.str.startswith(temp_team) == True)\n",
    "        total_kills_count = len(df_temp_kills[total_kills_mask])\n",
    "        # 參團率\n",
    "        if(total_kills_count != 0):\n",
    "            temp_TeamfightRate = round(((kill_count + assists_count) / total_kills_count), 2)\n",
    "        else:\n",
    "            temp_TeamfightRate = 0.0\n",
    "        each_game_TeamfightRate.append(temp_TeamfightRate)\n",
    "        \n",
    "    df_champ.insert(1, 'TeamFightRate', each_game_TeamfightRate)\n",
    "    \n",
    "    # 平均參團率\n",
    "    common_TeamfightRate.append(round(df_champ['TeamFightRate'].mean(), 2))"
   ]
  },
  {
   "cell_type": "code",
   "execution_count": 88,
   "metadata": {},
   "outputs": [
    {
     "data": {
      "text/plain": [
       "['70%', '64%', '63%', '65%', '64%', '70%']"
      ]
     },
     "execution_count": 88,
     "metadata": {},
     "output_type": "execute_result"
    }
   ],
   "source": [
    "for i in range(len(common_TeamfightRate)):\n",
    "    common_TeamfightRate[i] = str(int(common_TeamfightRate[i] * 100)) + \"%\"\n",
    "common_TeamfightRate"
   ]
  },
  {
   "cell_type": "code",
   "execution_count": 89,
   "metadata": {},
   "outputs": [],
   "source": [
    "s4 = pd.Series(fakerTopChampName , name=\"champName\")\n",
    "s5 = pd.Series(TeamfightRate, name=\"FakerTeamfightRate\")\n",
    "s6 = pd.Series(common_TeamfightRate, name=\"CommonTeamfightRate\")\n",
    "\n",
    "df_TeamfightRate = pd.concat([s4, s5, s6], axis=1)"
   ]
  },
  {
   "cell_type": "code",
   "execution_count": 90,
   "metadata": {},
   "outputs": [
    {
     "data": {
      "text/html": [
       "<div>\n",
       "<style scoped>\n",
       "    .dataframe tbody tr th:only-of-type {\n",
       "        vertical-align: middle;\n",
       "    }\n",
       "\n",
       "    .dataframe tbody tr th {\n",
       "        vertical-align: top;\n",
       "    }\n",
       "\n",
       "    .dataframe thead th {\n",
       "        text-align: right;\n",
       "    }\n",
       "</style>\n",
       "<table border=\"1\" class=\"dataframe\">\n",
       "  <thead>\n",
       "    <tr style=\"text-align: right;\">\n",
       "      <th></th>\n",
       "      <th>champName</th>\n",
       "      <th>FakerTeamfightRate</th>\n",
       "      <th>CommonTeamfightRate</th>\n",
       "    </tr>\n",
       "  </thead>\n",
       "  <tbody>\n",
       "    <tr>\n",
       "      <th>0</th>\n",
       "      <td>Orianna</td>\n",
       "      <td>69%</td>\n",
       "      <td>70%</td>\n",
       "    </tr>\n",
       "    <tr>\n",
       "      <th>1</th>\n",
       "      <td>Azir</td>\n",
       "      <td>69%</td>\n",
       "      <td>64%</td>\n",
       "    </tr>\n",
       "    <tr>\n",
       "      <th>2</th>\n",
       "      <td>Ryze</td>\n",
       "      <td>66%</td>\n",
       "      <td>63%</td>\n",
       "    </tr>\n",
       "    <tr>\n",
       "      <th>3</th>\n",
       "      <td>Cassiopeia</td>\n",
       "      <td>59%</td>\n",
       "      <td>65%</td>\n",
       "    </tr>\n",
       "    <tr>\n",
       "      <th>4</th>\n",
       "      <td>Viktor</td>\n",
       "      <td>72%</td>\n",
       "      <td>64%</td>\n",
       "    </tr>\n",
       "    <tr>\n",
       "      <th>5</th>\n",
       "      <td>Lulu</td>\n",
       "      <td>78%</td>\n",
       "      <td>70%</td>\n",
       "    </tr>\n",
       "  </tbody>\n",
       "</table>\n",
       "</div>"
      ],
      "text/plain": [
       "    champName FakerTeamfightRate CommonTeamfightRate\n",
       "0     Orianna                69%                 70%\n",
       "1        Azir                69%                 64%\n",
       "2        Ryze                66%                 63%\n",
       "3  Cassiopeia                59%                 65%\n",
       "4      Viktor                72%                 64%\n",
       "5        Lulu                78%                 70%"
      ]
     },
     "execution_count": 90,
     "metadata": {},
     "output_type": "execute_result"
    }
   ],
   "source": [
    "df_TeamfightRate"
   ]
  },
  {
   "cell_type": "code",
   "execution_count": 91,
   "metadata": {},
   "outputs": [],
   "source": [
    "df_TeamfightRate.to_csv(\"/Users/wuqirong/Documents/大三上課程/資料視覺化/期中報告/archive/output_csv/fakerTeamfightRate.csv\", index=False)"
   ]
  },
  {
   "cell_type": "code",
   "execution_count": null,
   "metadata": {},
   "outputs": [],
   "source": []
  }
 ],
 "metadata": {
  "kernelspec": {
   "display_name": "Python 3",
   "language": "python",
   "name": "python3"
  },
  "language_info": {
   "codemirror_mode": {
    "name": "ipython",
    "version": 3
   },
   "file_extension": ".py",
   "mimetype": "text/x-python",
   "name": "python",
   "nbconvert_exporter": "python",
   "pygments_lexer": "ipython3",
   "version": "3.8.1"
  }
 },
 "nbformat": 4,
 "nbformat_minor": 4
}
